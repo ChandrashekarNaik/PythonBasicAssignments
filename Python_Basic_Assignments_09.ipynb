{
 "cells": [
  {
   "cell_type": "markdown",
   "id": "d98a26b2",
   "metadata": {},
   "source": [
    "1. To what does a relative path refer?"
   ]
  },
  {
   "cell_type": "markdown",
   "id": "1de09947",
   "metadata": {},
   "source": [
    "Ans - A relative path defines a location that is relative to the current directory or folder."
   ]
  },
  {
   "cell_type": "markdown",
   "id": "9ac84159",
   "metadata": {},
   "source": [
    "2. What does an absolute path start with your operating system?"
   ]
  },
  {
   "cell_type": "markdown",
   "id": "05cf90ae",
   "metadata": {},
   "source": [
    "Ans - An absolute path refers to the complete details needed to locate a file or folder, starting from the root element and ending with the other subdirectories."
   ]
  },
  {
   "cell_type": "markdown",
   "id": "2795f13e",
   "metadata": {},
   "source": [
    "3. What do the functions os.getcwd() and os.chdir() do?"
   ]
  },
  {
   "cell_type": "markdown",
   "id": "de953a08",
   "metadata": {},
   "source": [
    "Ans - getcwd() : CWD stands for Current Working Directory. This function allows you to see what your current working directory is. chdir(\"path-to-dir\") : Short for CHange DIRectory, this function allows you to set the current working directory to a path of your choice."
   ]
  },
  {
   "cell_type": "markdown",
   "id": "465e5330",
   "metadata": {},
   "source": [
    "4. What are the . and .. folders?"
   ]
  },
  {
   "cell_type": "markdown",
   "id": "cfd62031",
   "metadata": {},
   "source": [
    "Ans - ' . ' represents the current directory and ' .. ' represents the parent directory"
   ]
  },
  {
   "cell_type": "markdown",
   "id": "a125bf3e",
   "metadata": {},
   "source": [
    "5. In C:\\bacon\\eggs\\spam.txt, which part is the dir name, and which part is the base name?"
   ]
  },
  {
   "cell_type": "markdown",
   "id": "8d08e798",
   "metadata": {},
   "source": [
    "Ans - C:\\bacon\\eggs is dir name and spam.txt is base name."
   ]
  },
  {
   "cell_type": "markdown",
   "id": "d7f7f5d0",
   "metadata": {},
   "source": [
    "6. What are the three “mode” arguments that can be passed to the open() function?"
   ]
  },
  {
   "cell_type": "markdown",
   "id": "26808ce2",
   "metadata": {},
   "source": [
    "Ans - ' r ' open for reading, ' w ' open for writing truncating the file first, ' a ' open for writing, appending to the end of the file if it exists."
   ]
  },
  {
   "cell_type": "markdown",
   "id": "c2ac3c0a",
   "metadata": {},
   "source": [
    "7. What happens if an existing file is opened in write mode?"
   ]
  },
  {
   "cell_type": "markdown",
   "id": "a4f92a9e",
   "metadata": {},
   "source": [
    "Ans -  First it truncates the exsisting file. Its contents are discarded and the file is treated as a new empty file."
   ]
  },
  {
   "cell_type": "markdown",
   "id": "775f4a8c",
   "metadata": {},
   "source": [
    "8. How do you tell the difference between read() and readlines()?"
   ]
  },
  {
   "cell_type": "markdown",
   "id": "a87eb63e",
   "metadata": {},
   "source": [
    "Ans - read() - It reads everything in the file from start to finish and return a string, and readlines() - It also reads everything in a file and returns a list of strings of lines"
   ]
  },
  {
   "cell_type": "markdown",
   "id": "13fceaf1",
   "metadata": {},
   "source": [
    "9. What data structure does a shelf value resemble?"
   ]
  },
  {
   "cell_type": "markdown",
   "id": "e80c9779",
   "metadata": {},
   "source": [
    "Ans - A shelf value resembels a dictionary value."
   ]
  },
  {
   "cell_type": "code",
   "execution_count": null,
   "id": "a04c8f58",
   "metadata": {},
   "outputs": [],
   "source": []
  }
 ],
 "metadata": {
  "kernelspec": {
   "display_name": "Python 3",
   "language": "python",
   "name": "python3"
  },
  "language_info": {
   "codemirror_mode": {
    "name": "ipython",
    "version": 3
   },
   "file_extension": ".py",
   "mimetype": "text/x-python",
   "name": "python",
   "nbconvert_exporter": "python",
   "pygments_lexer": "ipython3",
   "version": "3.8.8"
  }
 },
 "nbformat": 4,
 "nbformat_minor": 5
}
