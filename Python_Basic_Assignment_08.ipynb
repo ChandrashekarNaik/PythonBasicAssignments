{
 "cells": [
  {
   "cell_type": "markdown",
   "id": "a836c498",
   "metadata": {},
   "source": [
    "1. Is the Python Standard Library included with PyInputPlus?"
   ]
  },
  {
   "cell_type": "markdown",
   "id": "fe449699",
   "metadata": {},
   "source": [
    "Ans - No, PyInputPlus is not part of python standard library. It is installed using pip, pip install PyInputPlus."
   ]
  },
  {
   "cell_type": "markdown",
   "id": "b9b70c78",
   "metadata": {},
   "source": [
    "2. Why is PyInputPlus commonly imported with import pyinputplus as pypi?"
   ]
  },
  {
   "cell_type": "markdown",
   "id": "685242ee",
   "metadata": {},
   "source": [
    "Ans - We can import the module with import pyinputplus as pyip so that you can enter a shorter name when calling the module's functions."
   ]
  },
  {
   "cell_type": "markdown",
   "id": "6b714865",
   "metadata": {},
   "source": [
    "3. How do you distinguish between inputInt() and inputFloat()?"
   ]
  },
  {
   "cell_type": "markdown",
   "id": "85b7655a",
   "metadata": {},
   "source": [
    "Ans - inputInt() accepts an integer value, inputFloat() accepts a floating-point numeric value."
   ]
  },
  {
   "cell_type": "markdown",
   "id": "c84214a7",
   "metadata": {},
   "source": [
    "4.Using PyInputPlus, how do you ensure that the user enters a whole number between 0 and 99?"
   ]
  },
  {
   "cell_type": "markdown",
   "id": "3a5ec1e5",
   "metadata": {},
   "source": [
    "Ans - In the inputint function we can set the min = 0 and max =99 to ensure user enters number between 0 and 99\n",
    "\n",
    "pyip.inputInt(min = 0, max =99)"
   ]
  },
  {
   "cell_type": "markdown",
   "id": "91dab8cd",
   "metadata": {},
   "source": [
    "5. What is transferred to the keyword arguments allowRegexes and blockRegexes?"
   ]
  },
  {
   "cell_type": "markdown",
   "id": "030d83be",
   "metadata": {},
   "source": [
    "Ans - allowRegexes and blockRegexes keyword take a list of regular expression as a string to determine what pyinputplus function will accept or reject as valid input."
   ]
  },
  {
   "cell_type": "markdown",
   "id": "bdbcf3b9",
   "metadata": {},
   "source": [
    "6. If a blank input is entered three times, what does inputStr(limit=3) do?"
   ]
  },
  {
   "cell_type": "markdown",
   "id": "64696054",
   "metadata": {},
   "source": [
    "Ans- It will throw RetryLimitException exception"
   ]
  },
  {
   "cell_type": "markdown",
   "id": "5b535e46",
   "metadata": {},
   "source": [
    "7. If blank input is entered three times, what does inputStr(limit=3, default=&#39;hello&#39;) do?"
   ]
  },
  {
   "cell_type": "markdown",
   "id": "a205a4be",
   "metadata": {},
   "source": [
    "Ans - It returns 'hello'."
   ]
  },
  {
   "cell_type": "code",
   "execution_count": null,
   "id": "c4eef7b4",
   "metadata": {},
   "outputs": [],
   "source": []
  }
 ],
 "metadata": {
  "kernelspec": {
   "display_name": "Python 3",
   "language": "python",
   "name": "python3"
  },
  "language_info": {
   "codemirror_mode": {
    "name": "ipython",
    "version": 3
   },
   "file_extension": ".py",
   "mimetype": "text/x-python",
   "name": "python",
   "nbconvert_exporter": "python",
   "pygments_lexer": "ipython3",
   "version": "3.8.8"
  }
 },
 "nbformat": 4,
 "nbformat_minor": 5
}
